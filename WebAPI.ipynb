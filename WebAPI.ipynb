{
 "cells": [
  {
   "cell_type": "code",
   "execution_count": 8,
   "metadata": {},
   "outputs": [],
   "source": [
    "import requests"
   ]
  },
  {
   "cell_type": "code",
   "execution_count": 4,
   "metadata": {},
   "outputs": [],
   "source": [
    "url = 'http://api.openweathermap.org/data/2.5/weather?lat=34.0635363&lon=-118.4455592&units=Imperial&appid=f3ed13c42e7c876a64fd7841e7da9838'\n",
    "data = requests.get(url)"
   ]
  },
  {
   "cell_type": "code",
   "execution_count": 12,
   "metadata": {},
   "outputs": [
    {
     "name": "stdout",
     "output_type": "stream",
     "text": [
      "{\"coord\":{\"lon\":-118.45,\"lat\":34.06},\"weather\":[{\"id\":804,\"main\":\"Clouds\",\"description\":\"overcast clouds\",\"icon\":\"04n\"}],\"base\":\"stations\",\"main\":{\"temp\":71.06,\"pressure\":1015,\"humidity\":82,\"temp_min\":66.2,\"temp_max\":75.2},\"visibility\":16093,\"wind\":{\"speed\":8.05,\"deg\":230},\"clouds\":{\"all\":90},\"dt\":1531800360,\"sys\":{\"type\":1,\"id\":490,\"message\":0.0051,\"country\":\"US\",\"sunrise\":1531832100,\"sunset\":1531883081},\"id\":5408522,\"name\":\"Westwood\",\"cod\":200}\n"
     ]
    }
   ],
   "source": [
    "\n",
    "print(data.text)"
   ]
  }
 ],
 "metadata": {
  "kernelspec": {
   "display_name": "Python 3.6",
   "language": "python",
   "name": "python36"
  },
  "language_info": {
   "codemirror_mode": {
    "name": "ipython",
    "version": 3
   },
   "file_extension": ".py",
   "mimetype": "text/x-python",
   "name": "python",
   "nbconvert_exporter": "python",
   "pygments_lexer": "ipython3",
   "version": "3.6.3"
  }
 },
 "nbformat": 4,
 "nbformat_minor": 2
}
