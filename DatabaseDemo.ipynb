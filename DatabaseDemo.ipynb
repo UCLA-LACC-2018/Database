{
 "cells": [
  {
   "cell_type": "code",
   "execution_count": 6,
   "metadata": {},
   "outputs": [],
   "source": [
    "import pymongo\n",
    "from pymongo import MongoClient\n",
    "import json"
   ]
  },
  {
   "cell_type": "code",
   "execution_count": 15,
   "metadata": {},
   "outputs": [
    {
     "data": {
      "text/plain": [
       "True"
      ]
     },
     "execution_count": 15,
     "metadata": {},
     "output_type": "execute_result"
    }
   ],
   "source": [
    "# Create a MongoClient to interact with MongoDB Service\n",
    "#client = MongoClient()\n",
    "DB_NAME = 'ucla-lacc-2018-7'\n",
    "DB_HOST = 'ds141611.mlab.com'\n",
    "DB_USER = \"student\"\n",
    "DB_PASS = \"lacc2018\"\n",
    "DB_PORT = 41611\n",
    "Connection = MongoClient(DB_HOST, DB_PORT)\n",
    "db = Connection[DB_NAME]\n",
    "db.authenticate(DB_USER, DB_PASS)"
   ]
  },
  {
   "cell_type": "code",
   "execution_count": 3,
   "metadata": {},
   "outputs": [
    {
     "data": {
      "text/plain": [
       "['admin', 'config', 'local', 'profile_database', 'test_database']"
      ]
     },
     "execution_count": 3,
     "metadata": {},
     "output_type": "execute_result"
    }
   ],
   "source": [
    "# List all database names in the connected server\n",
    "#Connection.list_database_names()"
   ]
  },
  {
   "cell_type": "code",
   "execution_count": 4,
   "metadata": {},
   "outputs": [],
   "source": [
    "# Choose a database\n",
    "#db = client.test_database"
   ]
  },
  {
   "cell_type": "code",
   "execution_count": 9,
   "metadata": {},
   "outputs": [
    {
     "data": {
      "text/plain": [
       "['test_collection', 'system.indexes']"
      ]
     },
     "execution_count": 9,
     "metadata": {},
     "output_type": "execute_result"
    }
   ],
   "source": [
    "# List all collections in a database\n",
    "db.collection_names()"
   ]
  },
  {
   "cell_type": "code",
   "execution_count": 10,
   "metadata": {},
   "outputs": [],
   "source": [
    "# Choose a collection\n",
    "collection = db.test_collection"
   ]
  },
  {
   "cell_type": "code",
   "execution_count": 11,
   "metadata": {},
   "outputs": [
    {
     "data": {
      "text/plain": [
       "{'City': 'Los Angeles',\n",
       " 'Name': 'Sandeep',\n",
       " '_id': ObjectId('5b4f87764f9cf70061b18358'),\n",
       " 'id': 20}"
      ]
     },
     "execution_count": 11,
     "metadata": {},
     "output_type": "execute_result"
    }
   ],
   "source": [
    "data = '{\"Name\" : \"Sandeep\", \"City\" : \"Los Angeles\", \"id\" : 20}'\n",
    "j = json.loads(data)\n",
    "\n",
    "# Insert Data\n",
    "data_id = collection.insert_one(j).inserted_id\n",
    "\n",
    "# Extract data\n",
    "collection.find_one()"
   ]
  },
  {
   "cell_type": "code",
   "execution_count": 65,
   "metadata": {},
   "outputs": [
    {
     "name": "stdout",
     "output_type": "stream",
     "text": [
      "['admin', 'config', 'local', 'test_database']\n"
     ]
    }
   ],
   "source": [
    "client.drop_database('profile_database')\n",
    "# Create a new database\n",
    "db = client.profile_database\n",
    "\n",
    "\n",
    "\n",
    "print(client.list_database_names())\n",
    "#Create a new collection\n",
    "collection = db.info_collection\n",
    "collection.create_index([('Name', pymongo.ASCENDING)], unique=True)\n",
    "data_id = collection.insert_one(j).inserted_id\n",
    "\n",
    "print(client.list_database_names())"
   ]
  },
  {
   "cell_type": "code",
   "execution_count": 67,
   "metadata": {},
   "outputs": [
    {
     "name": "stdout",
     "output_type": "stream",
     "text": [
      "['admin', 'config', 'local', 'profile_database', 'test_database']\n"
     ]
    },
    {
     "data": {
      "text/plain": [
       "{'_id': ObjectId('5b4d8584dd28d00ba6841bac'),\n",
       " 'Name': 'Sandeep',\n",
       " 'City': 'Los Angeles',\n",
       " 'id': 20}"
      ]
     },
     "execution_count": 67,
     "metadata": {},
     "output_type": "execute_result"
    }
   ],
   "source": [
    "print(client.list_database_names())\n",
    "collection.find_one(data_id)\n",
    "#data_id = collection.insert_one(j).inserted_id"
   ]
  }
 ],
 "metadata": {
  "kernelspec": {
   "display_name": "Python 3",
   "language": "python",
   "name": "python3"
  },
  "language_info": {
   "codemirror_mode": {
    "name": "ipython",
    "version": 3
   },
   "file_extension": ".py",
   "mimetype": "text/x-python",
   "name": "python",
   "nbconvert_exporter": "python",
   "pygments_lexer": "ipython3",
   "version": "3.5.4"
  }
 },
 "nbformat": 4,
 "nbformat_minor": 2
}
